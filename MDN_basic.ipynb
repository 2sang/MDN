{
 "cells": [
  {
   "cell_type": "markdown",
   "metadata": {},
   "source": [
    "# Mixture Density Network"
   ]
  },
  {
   "cell_type": "code",
   "execution_count": 2,
   "metadata": {},
   "outputs": [],
   "source": [
    "import matplotlib.pyplot as plt\n",
    "import numpy as np\n",
    "import tensorflow as tf\n",
    "from tensorflow import keras\n",
    "from tensorflow.keras.layers import Input, Dense\n",
    "from tensorflow.keras.models import Model\n",
    "import math\n",
    "%matplotlib inline"
   ]
  },
  {
   "cell_type": "code",
   "execution_count": null,
   "metadata": {},
   "outputs": [],
   "source": [
    "def negative_log_likelihood():\n",
    "    \n",
    "\n",
    "def train_mdn():\n",
    "    epochs = 300\n",
    "    n_mixtures = 10\n",
    "    input_dim = 1\n",
    "    batch_size = 32\n",
    "    \n",
    "    inputs = Input(shape=(1,), name=\"input\")\n",
    "    h1 = Dense(128, activation='relu', name='h1')(inputs)\n",
    "    h2 = Dense(128, activation='relu', name='h2')(h1)\n",
    "    out = Dense(n_mixtures*3, name='out')\n",
    "    \n",
    "    model = Model(inputs, out, name='mdn')\n",
    "    model.compile(optimizer='adam', \n",
    "                  loss=)\n",
    "\n",
    "NSAMPLE = 1000\n",
    "\n",
    "x_data = np.float32(np.random.uniform(-10.5, 10.5, (1, NSAMPLE))).T\n",
    "r_data = np.float32(np.random.normal(size=(NSAMPLE,1)))\n",
    "y_data = np.float32(np.sin(0.75*x_data)*7.0 + x_data*0.5 + r_data*1.0)\n",
    "\n",
    "# Define model variables\n",
    "x = tf.placeholder(dtype=tf.float32, shape=[None,1])\n",
    "y = tf.placeholder(dtype=tf.float32, shape=[None,1])\n",
    "\n",
    "NX = 1\n",
    "NHIDDEN_FIRST = 40\n",
    "NHIDDEN_OUTPUT = 1\n",
    "\n",
    "W = {\n",
    "    \"l1\": tf.Variable(tf.random_normal([NX, NHIDDEN_FIRST], stddev=1.0, dtype=tf.float32)),\n",
    "    \"l2\": tf.Variable(tf.random_normal([NHIDDEN_FIRST, NHIDDEN_OUTPUT], stddev=1.0, dtype=tf.float32))\n",
    "}\n",
    "b = {\n",
    "    \"l1\": tf.Variable(tf.random_normal([1, NHIDDEN_FIRST], stddev=1.0, dtype=tf.float32)),\n",
    "    \"l2\": tf.Variable(tf.random_normal([1,NHIDDEN_OUTPUT], stddev=1.0, dtype=tf.float32))\n",
    "}\n",
    "\n",
    "def mlp(_x, _W, _b):\n",
    "    l1 = tf.nn.tanh(tf.matmul(_x, _W['l1']) + _b['l1'])\n",
    "    return tf.matmul(l1, _W['l2']) + _b['l2']\n",
    "\n",
    "# Train Stage\n",
    "pred = mlp(x, W, b)\n",
    "loss = tf.nn.l2_loss(pred-y);\n",
    "optm = tf.train.AdamOptimizer(learning_rate=0.1).minimize(loss)\n",
    "\n",
    "# Test Stage\n",
    "x_test = np.float32(np.arange(-10.5,10.5,0.1))\n",
    "x_test = x_test.reshape(x_test.size, 1)\n",
    "\n",
    "\n",
    "with tf.Session() as sess:\n",
    "    sess.run(tf.global_variables_initializer())\n",
    "    NEPOCH = 1000\n",
    "    for i in range(NEPOCH):\n",
    "        sess.run(optm, feed_dict={x: x_data, y: y_data})\n",
    "    print (\"OPTIMIZATION FINISHED\")\n",
    "    y_test = sess.run(pred, feed_dict={x: x_test})\n",
    "    print (\"TEST FINISHED\")"
   ]
  }
 ],
 "metadata": {
  "kernelspec": {
   "display_name": "Python 3",
   "language": "python",
   "name": "python3"
  },
  "language_info": {
   "codemirror_mode": {
    "name": "ipython",
    "version": 3
   },
   "file_extension": ".py",
   "mimetype": "text/x-python",
   "name": "python",
   "nbconvert_exporter": "python",
   "pygments_lexer": "ipython3",
   "version": "3.6.5"
  }
 },
 "nbformat": 4,
 "nbformat_minor": 2
}
